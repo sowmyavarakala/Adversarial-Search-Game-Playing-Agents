{
 "cells": [
  {
   "cell_type": "markdown",
   "metadata": {},
   "source": [
    "# Open field tic tac toe(4 * 4)\n"
   ]
  },
  {
   "cell_type": "markdown",
   "metadata": {},
   "source": [
    "###### we can change board size by changing Height and width and k value in the code \n",
    "###### Here my code shows width=4, height=4, k=4"
   ]
  },
  {
   "cell_type": "code",
   "execution_count": 32,
   "metadata": {},
   "outputs": [],
   "source": [
    "from collections import namedtuple, Counter, defaultdict\n",
    "import math\n",
    "import functools \n",
    "import random\n",
    "cache = functools.lru_cache(10**6)"
   ]
  },
  {
   "cell_type": "code",
   "execution_count": 33,
   "metadata": {},
   "outputs": [],
   "source": [
    "class Game:\n",
    "\n",
    "    def actions(self, states):\n",
    "        \"\"\"allowable moves from this states.\"\"\"\n",
    "        raise NotImplementedError\n",
    "\n",
    "    def result(self, states, move):\n",
    "        \"\"\"from making a move from a states.\"\"\"\n",
    "        raise NotImplementedError\n",
    "\n",
    "    def is_terminal(self, states):\n",
    "        \"\"\"final states for the game.\"\"\"\n",
    "        return not self.actions(states)\n",
    "    \n",
    "    def utility(self, states, player):\n",
    "        \"\"\"final states to player.\"\"\"\n",
    "        raise NotImplementedError"
   ]
  },
  {
   "cell_type": "code",
   "execution_count": 34,
   "metadata": {},
   "outputs": [],
   "source": [
    "def play_game(game, strategies: dict, verbose=False):\n",
    "    states = game.initial\n",
    "    while not game.is_terminal(states):\n",
    "        player = states.to_move\n",
    "        move = strategies[player](game, states)\n",
    "        states = game.result(states, move)\n",
    "        if verbose: \n",
    "            print('Player', player, 'move:', move)\n",
    "            print(states)\n",
    "    return states"
   ]
  },
  {
   "cell_type": "code",
   "execution_count": 35,
   "metadata": {},
   "outputs": [],
   "source": [
    "def minimax_search(game, states):\n",
    "    player = states.to_move\n",
    "\n",
    "    def max_value(states):\n",
    "        if game.is_terminal(states):\n",
    "            return game.utility(states, player), None\n",
    "        v, move = -infinity, None\n",
    "        for a in game.actions(states):\n",
    "            v2, _ = min_value(game.result(states, a))\n",
    "            if v2 > v:\n",
    "                v, move = v2, a\n",
    "        return v, move\n",
    "\n",
    "    def min_value(states):\n",
    "        if game.is_terminal(states):\n",
    "            return game.utility(states, player), None\n",
    "        v, move = +infinity, None\n",
    "        for a in game.actions(states):\n",
    "            v2, _ = max_value(game.result(states, a))\n",
    "            if v2 < v:\n",
    "                v, move = v2, a\n",
    "        return v, move\n",
    "\n",
    "    return max_value(states)\n",
    "\n",
    "infinity = math.inf\n"
   ]
  },
  {
   "cell_type": "code",
   "execution_count": 36,
   "metadata": {},
   "outputs": [],
   "source": [
    "def alphabeta_search(game, states):\n",
    "    \n",
    "    player = states.to_move\n",
    "\n",
    "    def max_value(states, alpha, beta):\n",
    "        if game.is_terminal(states):\n",
    "            return game.utility(states, player), None\n",
    "        v, move = -infinity, None\n",
    "        for a in game.actions(states):\n",
    "            v2, _ = min_value(game.result(states, a), alpha, beta)\n",
    "            if v2 > v:\n",
    "                v, move = v2, a\n",
    "                alpha = max(alpha, v)\n",
    "            if v >= beta:\n",
    "                return v, move\n",
    "        return v, move\n",
    "\n",
    "    def min_value(states, alpha, beta):\n",
    "        if game.is_terminal(states):\n",
    "            return game.utility(states, player), None\n",
    "        v, move = +infinity, None\n",
    "        for a in game.actions(states):\n",
    "            v2, _ = max_value(game.result(states, a), alpha, beta)\n",
    "            if v2 < v:\n",
    "                v, move = v2, a\n",
    "                beta = min(beta, v)\n",
    "            if v <= alpha:\n",
    "                return v, move\n",
    "        return v, move\n",
    "\n",
    "    return max_value(states, -infinity, +infinity)"
   ]
  },
  {
   "cell_type": "code",
   "execution_count": 37,
   "metadata": {},
   "outputs": [],
   "source": [
    "class TicTacToe(Game):\n",
    "    def __init__(self, height=3, width=3, k=3):\n",
    "        self.k = k # k in a row\n",
    "        self.squares = {(x, y) for x in range(width) for y in range(height)}\n",
    "        self.initial = Board(height=height, width=width, to_move='X', utility=0)\n",
    "\n",
    "    def actions(self, board):\n",
    "        \"\"\"Legal moves are any square not yet taken.\"\"\"\n",
    "        return self.squares - set(board)\n",
    "\n",
    "    def result(self, board, square):\n",
    "        \"\"\"Place a marker for current player on square.\"\"\"\n",
    "        player = board.to_move\n",
    "        board = board.new({square: player}, to_move=('O' if player == 'X' else 'X'))\n",
    "        win = k_in_row(board, player, square, self.k)\n",
    "        board.utility = (0 if not win else +1 if player == 'X' else -1)\n",
    "        return board\n",
    "\n",
    "    def utility(self, board, player):\n",
    "        \"\"\"Return the value to player; 1 for win, -1 for loss, 0 otherwise.\"\"\"\n",
    "        return board.utility if player == 'X' else -board.utility\n",
    "\n",
    "    def is_terminal(self, board):\n",
    "        \"\"\"A board is a terminal state if it is won or there are no empty squares.\"\"\"\n",
    "        return board.utility != 0 or len(self.squares) == len(board)\n",
    "\n",
    "    def display(self, board): print(board)     "
   ]
  },
  {
   "cell_type": "code",
   "execution_count": 38,
   "metadata": {},
   "outputs": [],
   "source": [
    "def k_in_row(board, player, square, k):\n",
    "    def in_row(x, y, dx, dy): \n",
    "        return 0 if board[x, y] != player else 1 + in_row(x + dx, y + dy, dx, dy)\n",
    "    return any(in_row(*square, dx, dy) + in_row(*square, -dx, -dy) - 1 >= k\n",
    "               for (dx, dy) in ((0, 1), (1, 0), (1, 1), (1, -1)))"
   ]
  },
  {
   "cell_type": "code",
   "execution_count": 39,
   "metadata": {},
   "outputs": [],
   "source": [
    "class ConnectFour(TicTacToe):    \n",
    "    def __init__(self): super().__init__(width=4, height=4, k=4)\n",
    "\n",
    "    def actions(self, board):\n",
    "        \"\"\"In each column you can play only the lowest empty square in the column.\"\"\"\n",
    "        return {(x, y) for (x, y) in self.squares - set(board)\n",
    "                if y == board.height - 1 or (x, y + 1) in board}"
   ]
  },
  {
   "cell_type": "code",
   "execution_count": 40,
   "metadata": {},
   "outputs": [],
   "source": [
    "class Board(defaultdict):\n",
    "    empty = '.'\n",
    "    off = '#'\n",
    "    \n",
    "    def __init__(self, width=8, height=8, to_move=None, **kwds):\n",
    "        self.__dict__.update(width=width, height=height, to_move=to_move, **kwds)\n",
    "        \n",
    "    def new(self, changes: dict, **kwds) -> 'Board':\n",
    "        board = Board(width=self.width, height=self.height, **kwds)\n",
    "        board.update(self)\n",
    "        board.update(changes)\n",
    "        return board\n",
    "\n",
    "    def __missing__(self, loc):\n",
    "        x, y = loc\n",
    "        if 0 <= x < self.width and 0 <= y < self.height:\n",
    "            return self.empty\n",
    "        else:\n",
    "            return self.off\n",
    "            \n",
    "    def __hash__(self): \n",
    "        return hash(tuple(sorted(self.items()))) + hash(self.to_move)\n",
    "    \n",
    "    def __repr__(self):\n",
    "        def row(y): return ' '.join(self[x, y] for x in range(self.width))\n",
    "        return '\\n'.join(map(row, range(self.height))) +  '\\n'"
   ]
  },
  {
   "cell_type": "code",
   "execution_count": 41,
   "metadata": {},
   "outputs": [],
   "source": [
    "def random_player(game, state): return random.choice(list(game.actions(state)))"
   ]
  },
  {
   "cell_type": "code",
   "execution_count": 42,
   "metadata": {},
   "outputs": [],
   "source": [
    "def player(search_algorithm):\n",
    "    return lambda game, state: search_algorithm(game, state)[1]"
   ]
  },
  {
   "cell_type": "code",
   "execution_count": 43,
   "metadata": {},
   "outputs": [
    {
     "name": "stdout",
     "output_type": "stream",
     "text": [
      "Player X move: (1, 3)\n",
      ". . . .\n",
      ". . . .\n",
      ". . . .\n",
      ". X . .\n",
      "\n",
      "Player O move: (1, 2)\n",
      ". . . .\n",
      ". . . .\n",
      ". O . .\n",
      ". X . .\n",
      "\n",
      "Player X move: (2, 3)\n",
      ". . . .\n",
      ". . . .\n",
      ". O . .\n",
      ". X X .\n",
      "\n",
      "Player O move: (0, 3)\n",
      ". . . .\n",
      ". . . .\n",
      ". O . .\n",
      "O X X .\n",
      "\n",
      "Player X move: (3, 3)\n",
      ". . . .\n",
      ". . . .\n",
      ". O . .\n",
      "O X X X\n",
      "\n",
      "Player O move: (3, 2)\n",
      ". . . .\n",
      ". . . .\n",
      ". O . O\n",
      "O X X X\n",
      "\n",
      "Player X move: (2, 2)\n",
      ". . . .\n",
      ". . . .\n",
      ". O X O\n",
      "O X X X\n",
      "\n",
      "Player O move: (1, 1)\n",
      ". . . .\n",
      ". O . .\n",
      ". O X O\n",
      "O X X X\n",
      "\n",
      "Player X move: (1, 0)\n",
      ". X . .\n",
      ". O . .\n",
      ". O X O\n",
      "O X X X\n",
      "\n",
      "Player O move: (2, 1)\n",
      ". X . .\n",
      ". O O .\n",
      ". O X O\n",
      "O X X X\n",
      "\n",
      "Player X move: (0, 2)\n",
      ". X . .\n",
      ". O O .\n",
      "X O X O\n",
      "O X X X\n",
      "\n",
      "Player O move: (0, 1)\n",
      ". X . .\n",
      "O O O .\n",
      "X O X O\n",
      "O X X X\n",
      "\n",
      "Player X move: (0, 0)\n",
      "X X . .\n",
      "O O O .\n",
      "X O X O\n",
      "O X X X\n",
      "\n",
      "Player O move: (3, 1)\n",
      "X X . .\n",
      "O O O O\n",
      "X O X O\n",
      "O X X X\n",
      "\n"
     ]
    },
    {
     "data": {
      "text/plain": [
       "-1"
      ]
     },
     "execution_count": 43,
     "metadata": {},
     "output_type": "execute_result"
    }
   ],
   "source": [
    "play_game(ConnectFour(), dict(X=random_player, O=random_player), verbose=True).utility"
   ]
  },
  {
   "cell_type": "code",
   "execution_count": null,
   "metadata": {},
   "outputs": [],
   "source": []
  }
 ],
 "metadata": {
  "kernelspec": {
   "display_name": "Python 3",
   "language": "python",
   "name": "python3"
  },
  "language_info": {
   "codemirror_mode": {
    "name": "ipython",
    "version": 3
   },
   "file_extension": ".py",
   "mimetype": "text/x-python",
   "name": "python",
   "nbconvert_exporter": "python",
   "pygments_lexer": "ipython3",
   "version": "3.8.3"
  }
 },
 "nbformat": 4,
 "nbformat_minor": 2
}
